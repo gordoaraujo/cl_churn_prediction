{
  "nbformat": 4,
  "nbformat_minor": 0,
  "metadata": {
    "colab": {
      "provenance": [],
      "authorship_tag": "ABX9TyMlnmwMMbDMkeugwdcyabtZ",
      "include_colab_link": true
    },
    "kernelspec": {
      "name": "python3",
      "display_name": "Python 3"
    },
    "language_info": {
      "name": "python"
    }
  },
  "cells": [
    {
      "cell_type": "markdown",
      "metadata": {
        "id": "view-in-github",
        "colab_type": "text"
      },
      "source": [
        "<a href=\"https://colab.research.google.com/github/gordoaraujo/cl_churn_prediction/blob/main/notebooks/vuggegvu.ipynb\" target=\"_parent\"><img src=\"https://colab.research.google.com/assets/colab-badge.svg\" alt=\"Open In Colab\"/></a>"
      ]
    },
    {
      "cell_type": "markdown",
      "source": [
        "uhhilhli\n"
      ],
      "metadata": {
        "id": "_CZCFrqsOH-2"
      }
    },
    {
      "cell_type": "markdown",
      "source": [
        "hcuafhih"
      ],
      "metadata": {
        "id": "aIRSO42JPT1I"
      }
    },
    {
      "cell_type": "code",
      "execution_count": null,
      "metadata": {
        "id": "fP5YCjFdODmJ"
      },
      "outputs": [],
      "source": []
    }
  ]
}